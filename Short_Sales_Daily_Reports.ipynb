{
  "nbformat": 4,
  "nbformat_minor": 0,
  "metadata": {
    "colab": {
      "name": "Short Sales Daily Reports.ipynb",
      "provenance": [],
      "collapsed_sections": [],
      "authorship_tag": "ABX9TyND8bLe6Hr1u9XknBQzpWlb",
      "include_colab_link": true
    },
    "kernelspec": {
      "name": "python3",
      "display_name": "Python 3"
    },
    "language_info": {
      "name": "python"
    }
  },
  "cells": [
    {
      "cell_type": "markdown",
      "metadata": {
        "id": "view-in-github",
        "colab_type": "text"
      },
      "source": [
        "<a href=\"https://colab.research.google.com/github/Meta-Sean/Short-is-Long/blob/main/Short_Sales_Daily_Reports.ipynb\" target=\"_parent\"><img src=\"https://colab.research.google.com/assets/colab-badge.svg\" alt=\"Open In Colab\"/></a>"
      ]
    },
    {
      "cell_type": "code",
      "source": [
        "import pandas as pd\n",
        "#TODO: Add multiple days of short data together\n",
        "# Format the date\n",
        "# Either Scrap the Webpage or Use Text Fil\n",
        "# Turn the Data into a Pandas DataFrame\n",
        "FINRA0801_df = pd.read_csv(\"CNMSshvol20220801.txt\", sep=\"|\")\n",
        "FINRA0802_df = pd.read_csv(\"CNMSshvol20220802.txt\", sep=\"|\")\n",
        "FINRA0804_df = pd.read_csv(\"CNMSshvol20220804.txt\", sep=\"|\")\n",
        "FINRA0805_df = pd.read_csv(\"CNMSshvol20220805.txt\", sep=\"|\")\n",
        "FINRA_df = pd.concat([FINRA0801_df, FINRA0802_df, FINRA0804_df, FINRA0805_df], ignore_index=True)\n",
        "EDGX0801_df = pd.read_csv(\"EDGAshvol20220801.txt\", sep=\"|\")\n",
        "EDGX0802_df = pd.read_csv(\"EDGAshvol20220802.txt\", sep=\"|\")\n",
        "EDGX0803_df = pd.read_csv(\"EDGAshvol20220803.txt\", sep=\"|\")\n",
        "EDGX0804_df = pd.read_csv(\"EDGAshvol20220804.txt\", sep=\"|\")\n",
        "EDGX0805_df = pd.read_csv(\"EDGAshvol20220805.txt\", sep=\"|\")\n",
        "EDGX_df = pd.concat([EDGX0801_df, EDGX0802_df,EDGX0803_df, EDGX0804_df, EDGX0805_df], ignore_index=True)\n",
        "# EDA and use a Bar plot to look at the short volume and total volume noting the venue\n",
        "\n",
        "# Informs the 'physics' of the trade momentum factors: Volume / Float / Short Volume - Theme / Dilution"
      ],
      "metadata": {
        "id": "oPkjmOEfURfJ"
      },
      "execution_count": null,
      "outputs": []
    },
    {
      "cell_type": "markdown",
      "source": [
        ""
      ],
      "metadata": {
        "id": "3Jxw1SQRqbXJ"
      }
    },
    {
      "cell_type": "code",
      "source": [
        "# Turn Dates column into human read-able datetime types\n",
        "FINRA_df = FINRA_df.dropna()\n",
        "FINRA_df['Date'] = pd.to_datetime(FINRA_df[\"Date\"], format='%Y%m%d')\n",
        "FINRA_df"
      ],
      "metadata": {
        "colab": {
          "base_uri": "https://localhost:8080/",
          "height": 598
        },
        "id": "Tr4bgtiOojwT",
        "outputId": "995b765f-4af3-4463-ab8f-caec6093b6fb"
      },
      "execution_count": null,
      "outputs": [
        {
          "output_type": "stream",
          "name": "stderr",
          "text": [
            "/usr/local/lib/python3.7/dist-packages/ipykernel_launcher.py:3: SettingWithCopyWarning: \n",
            "A value is trying to be set on a copy of a slice from a DataFrame.\n",
            "Try using .loc[row_indexer,col_indexer] = value instead\n",
            "\n",
            "See the caveats in the documentation: https://pandas.pydata.org/pandas-docs/stable/user_guide/indexing.html#returning-a-view-versus-a-copy\n",
            "  This is separate from the ipykernel package so we can avoid doing imports until\n"
          ]
        },
        {
          "output_type": "execute_result",
          "data": {
            "text/plain": [
              "            Date Symbol  ShortVolume  ShortExemptVolume  TotalVolume Market\n",
              "0     2022-08-01      A     192157.0               29.0     307293.0  B,Q,N\n",
              "1     2022-08-01     AA    1063671.0             3747.0    2661930.0  B,Q,N\n",
              "2     2022-08-01   AAAU     564932.0                0.0    1299005.0    Q,N\n",
              "3     2022-08-01    AAC      31220.0                0.0      65707.0      Q\n",
              "4     2022-08-01  AAC/U        240.0                0.0       2560.0      Q\n",
              "...          ...    ...          ...                ...          ...    ...\n",
              "39662 2022-08-05    ZWS     123888.0                0.0     340111.0  B,Q,N\n",
              "39663 2022-08-05     ZY      64283.0             7124.0     374824.0  B,Q,N\n",
              "39664 2022-08-05   ZYME      81919.0                0.0     269891.0  B,Q,N\n",
              "39665 2022-08-05   ZYNE     101147.0             3627.0     311632.0  B,Q,N\n",
              "39666 2022-08-05   ZYXI     135669.0               55.0     225346.0  B,Q,N\n",
              "\n",
              "[39660 rows x 6 columns]"
            ],
            "text/html": [
              "\n",
              "  <div id=\"df-70906190-b245-4cb3-beff-a1cb2458f480\">\n",
              "    <div class=\"colab-df-container\">\n",
              "      <div>\n",
              "<style scoped>\n",
              "    .dataframe tbody tr th:only-of-type {\n",
              "        vertical-align: middle;\n",
              "    }\n",
              "\n",
              "    .dataframe tbody tr th {\n",
              "        vertical-align: top;\n",
              "    }\n",
              "\n",
              "    .dataframe thead th {\n",
              "        text-align: right;\n",
              "    }\n",
              "</style>\n",
              "<table border=\"1\" class=\"dataframe\">\n",
              "  <thead>\n",
              "    <tr style=\"text-align: right;\">\n",
              "      <th></th>\n",
              "      <th>Date</th>\n",
              "      <th>Symbol</th>\n",
              "      <th>ShortVolume</th>\n",
              "      <th>ShortExemptVolume</th>\n",
              "      <th>TotalVolume</th>\n",
              "      <th>Market</th>\n",
              "    </tr>\n",
              "  </thead>\n",
              "  <tbody>\n",
              "    <tr>\n",
              "      <th>0</th>\n",
              "      <td>2022-08-01</td>\n",
              "      <td>A</td>\n",
              "      <td>192157.0</td>\n",
              "      <td>29.0</td>\n",
              "      <td>307293.0</td>\n",
              "      <td>B,Q,N</td>\n",
              "    </tr>\n",
              "    <tr>\n",
              "      <th>1</th>\n",
              "      <td>2022-08-01</td>\n",
              "      <td>AA</td>\n",
              "      <td>1063671.0</td>\n",
              "      <td>3747.0</td>\n",
              "      <td>2661930.0</td>\n",
              "      <td>B,Q,N</td>\n",
              "    </tr>\n",
              "    <tr>\n",
              "      <th>2</th>\n",
              "      <td>2022-08-01</td>\n",
              "      <td>AAAU</td>\n",
              "      <td>564932.0</td>\n",
              "      <td>0.0</td>\n",
              "      <td>1299005.0</td>\n",
              "      <td>Q,N</td>\n",
              "    </tr>\n",
              "    <tr>\n",
              "      <th>3</th>\n",
              "      <td>2022-08-01</td>\n",
              "      <td>AAC</td>\n",
              "      <td>31220.0</td>\n",
              "      <td>0.0</td>\n",
              "      <td>65707.0</td>\n",
              "      <td>Q</td>\n",
              "    </tr>\n",
              "    <tr>\n",
              "      <th>4</th>\n",
              "      <td>2022-08-01</td>\n",
              "      <td>AAC/U</td>\n",
              "      <td>240.0</td>\n",
              "      <td>0.0</td>\n",
              "      <td>2560.0</td>\n",
              "      <td>Q</td>\n",
              "    </tr>\n",
              "    <tr>\n",
              "      <th>...</th>\n",
              "      <td>...</td>\n",
              "      <td>...</td>\n",
              "      <td>...</td>\n",
              "      <td>...</td>\n",
              "      <td>...</td>\n",
              "      <td>...</td>\n",
              "    </tr>\n",
              "    <tr>\n",
              "      <th>39662</th>\n",
              "      <td>2022-08-05</td>\n",
              "      <td>ZWS</td>\n",
              "      <td>123888.0</td>\n",
              "      <td>0.0</td>\n",
              "      <td>340111.0</td>\n",
              "      <td>B,Q,N</td>\n",
              "    </tr>\n",
              "    <tr>\n",
              "      <th>39663</th>\n",
              "      <td>2022-08-05</td>\n",
              "      <td>ZY</td>\n",
              "      <td>64283.0</td>\n",
              "      <td>7124.0</td>\n",
              "      <td>374824.0</td>\n",
              "      <td>B,Q,N</td>\n",
              "    </tr>\n",
              "    <tr>\n",
              "      <th>39664</th>\n",
              "      <td>2022-08-05</td>\n",
              "      <td>ZYME</td>\n",
              "      <td>81919.0</td>\n",
              "      <td>0.0</td>\n",
              "      <td>269891.0</td>\n",
              "      <td>B,Q,N</td>\n",
              "    </tr>\n",
              "    <tr>\n",
              "      <th>39665</th>\n",
              "      <td>2022-08-05</td>\n",
              "      <td>ZYNE</td>\n",
              "      <td>101147.0</td>\n",
              "      <td>3627.0</td>\n",
              "      <td>311632.0</td>\n",
              "      <td>B,Q,N</td>\n",
              "    </tr>\n",
              "    <tr>\n",
              "      <th>39666</th>\n",
              "      <td>2022-08-05</td>\n",
              "      <td>ZYXI</td>\n",
              "      <td>135669.0</td>\n",
              "      <td>55.0</td>\n",
              "      <td>225346.0</td>\n",
              "      <td>B,Q,N</td>\n",
              "    </tr>\n",
              "  </tbody>\n",
              "</table>\n",
              "<p>39660 rows × 6 columns</p>\n",
              "</div>\n",
              "      <button class=\"colab-df-convert\" onclick=\"convertToInteractive('df-70906190-b245-4cb3-beff-a1cb2458f480')\"\n",
              "              title=\"Convert this dataframe to an interactive table.\"\n",
              "              style=\"display:none;\">\n",
              "        \n",
              "  <svg xmlns=\"http://www.w3.org/2000/svg\" height=\"24px\"viewBox=\"0 0 24 24\"\n",
              "       width=\"24px\">\n",
              "    <path d=\"M0 0h24v24H0V0z\" fill=\"none\"/>\n",
              "    <path d=\"M18.56 5.44l.94 2.06.94-2.06 2.06-.94-2.06-.94-.94-2.06-.94 2.06-2.06.94zm-11 1L8.5 8.5l.94-2.06 2.06-.94-2.06-.94L8.5 2.5l-.94 2.06-2.06.94zm10 10l.94 2.06.94-2.06 2.06-.94-2.06-.94-.94-2.06-.94 2.06-2.06.94z\"/><path d=\"M17.41 7.96l-1.37-1.37c-.4-.4-.92-.59-1.43-.59-.52 0-1.04.2-1.43.59L10.3 9.45l-7.72 7.72c-.78.78-.78 2.05 0 2.83L4 21.41c.39.39.9.59 1.41.59.51 0 1.02-.2 1.41-.59l7.78-7.78 2.81-2.81c.8-.78.8-2.07 0-2.86zM5.41 20L4 18.59l7.72-7.72 1.47 1.35L5.41 20z\"/>\n",
              "  </svg>\n",
              "      </button>\n",
              "      \n",
              "  <style>\n",
              "    .colab-df-container {\n",
              "      display:flex;\n",
              "      flex-wrap:wrap;\n",
              "      gap: 12px;\n",
              "    }\n",
              "\n",
              "    .colab-df-convert {\n",
              "      background-color: #E8F0FE;\n",
              "      border: none;\n",
              "      border-radius: 50%;\n",
              "      cursor: pointer;\n",
              "      display: none;\n",
              "      fill: #1967D2;\n",
              "      height: 32px;\n",
              "      padding: 0 0 0 0;\n",
              "      width: 32px;\n",
              "    }\n",
              "\n",
              "    .colab-df-convert:hover {\n",
              "      background-color: #E2EBFA;\n",
              "      box-shadow: 0px 1px 2px rgba(60, 64, 67, 0.3), 0px 1px 3px 1px rgba(60, 64, 67, 0.15);\n",
              "      fill: #174EA6;\n",
              "    }\n",
              "\n",
              "    [theme=dark] .colab-df-convert {\n",
              "      background-color: #3B4455;\n",
              "      fill: #D2E3FC;\n",
              "    }\n",
              "\n",
              "    [theme=dark] .colab-df-convert:hover {\n",
              "      background-color: #434B5C;\n",
              "      box-shadow: 0px 1px 3px 1px rgba(0, 0, 0, 0.15);\n",
              "      filter: drop-shadow(0px 1px 2px rgba(0, 0, 0, 0.3));\n",
              "      fill: #FFFFFF;\n",
              "    }\n",
              "  </style>\n",
              "\n",
              "      <script>\n",
              "        const buttonEl =\n",
              "          document.querySelector('#df-70906190-b245-4cb3-beff-a1cb2458f480 button.colab-df-convert');\n",
              "        buttonEl.style.display =\n",
              "          google.colab.kernel.accessAllowed ? 'block' : 'none';\n",
              "\n",
              "        async function convertToInteractive(key) {\n",
              "          const element = document.querySelector('#df-70906190-b245-4cb3-beff-a1cb2458f480');\n",
              "          const dataTable =\n",
              "            await google.colab.kernel.invokeFunction('convertToInteractive',\n",
              "                                                     [key], {});\n",
              "          if (!dataTable) return;\n",
              "\n",
              "          const docLinkHtml = 'Like what you see? Visit the ' +\n",
              "            '<a target=\"_blank\" href=https://colab.research.google.com/notebooks/data_table.ipynb>data table notebook</a>'\n",
              "            + ' to learn more about interactive tables.';\n",
              "          element.innerHTML = '';\n",
              "          dataTable['output_type'] = 'display_data';\n",
              "          await google.colab.output.renderOutput(dataTable, element);\n",
              "          const docLink = document.createElement('div');\n",
              "          docLink.innerHTML = docLinkHtml;\n",
              "          element.appendChild(docLink);\n",
              "        }\n",
              "      </script>\n",
              "    </div>\n",
              "  </div>\n",
              "  "
            ]
          },
          "metadata": {},
          "execution_count": 125
        }
      ]
    },
    {
      "cell_type": "code",
      "source": [
        "EDGX_df = EDGX_df.dropna()\n",
        "EDGX_df['Date'] = pd.to_datetime(EDGX_df[\"Date\"], format='%Y%m%d')\n",
        "EDGX_df"
      ],
      "metadata": {
        "colab": {
          "base_uri": "https://localhost:8080/",
          "height": 554
        },
        "id": "abDsjDjhqkKG",
        "outputId": "8bb0b69e-1940-4590-c09e-1f5d191b4f86"
      },
      "execution_count": null,
      "outputs": [
        {
          "output_type": "stream",
          "name": "stderr",
          "text": [
            "/usr/local/lib/python3.7/dist-packages/ipykernel_launcher.py:2: SettingWithCopyWarning: \n",
            "A value is trying to be set on a copy of a slice from a DataFrame.\n",
            "Try using .loc[row_indexer,col_indexer] = value instead\n",
            "\n",
            "See the caveats in the documentation: https://pandas.pydata.org/pandas-docs/stable/user_guide/indexing.html#returning-a-view-versus-a-copy\n",
            "  \n"
          ]
        },
        {
          "output_type": "execute_result",
          "data": {
            "text/plain": [
              "            Date Symbol  Short Volume  Total Volume Market Center\n",
              "0     2022-08-01      A         16133         24726             J\n",
              "1     2022-08-01     AA          8188         18489             J\n",
              "2     2022-08-01   AAAU         11673         16519             J\n",
              "3     2022-08-01    AAC          1436          1638             J\n",
              "4     2022-08-01   AACG           300           300             J\n",
              "...          ...    ...           ...           ...           ...\n",
              "37371 2022-08-05    ZWS          4268         11066             J\n",
              "37372 2022-08-05     ZY         16656         28478             J\n",
              "37373 2022-08-05   ZYME          6457         17481             J\n",
              "37374 2022-08-05   ZYNE          1187          1886             J\n",
              "37375 2022-08-05   ZYXI          3321          3722             J\n",
              "\n",
              "[37371 rows x 5 columns]"
            ],
            "text/html": [
              "\n",
              "  <div id=\"df-3ebb892f-c646-48eb-ac92-479567e9e101\">\n",
              "    <div class=\"colab-df-container\">\n",
              "      <div>\n",
              "<style scoped>\n",
              "    .dataframe tbody tr th:only-of-type {\n",
              "        vertical-align: middle;\n",
              "    }\n",
              "\n",
              "    .dataframe tbody tr th {\n",
              "        vertical-align: top;\n",
              "    }\n",
              "\n",
              "    .dataframe thead th {\n",
              "        text-align: right;\n",
              "    }\n",
              "</style>\n",
              "<table border=\"1\" class=\"dataframe\">\n",
              "  <thead>\n",
              "    <tr style=\"text-align: right;\">\n",
              "      <th></th>\n",
              "      <th>Date</th>\n",
              "      <th>Symbol</th>\n",
              "      <th>Short Volume</th>\n",
              "      <th>Total Volume</th>\n",
              "      <th>Market Center</th>\n",
              "    </tr>\n",
              "  </thead>\n",
              "  <tbody>\n",
              "    <tr>\n",
              "      <th>0</th>\n",
              "      <td>2022-08-01</td>\n",
              "      <td>A</td>\n",
              "      <td>16133</td>\n",
              "      <td>24726</td>\n",
              "      <td>J</td>\n",
              "    </tr>\n",
              "    <tr>\n",
              "      <th>1</th>\n",
              "      <td>2022-08-01</td>\n",
              "      <td>AA</td>\n",
              "      <td>8188</td>\n",
              "      <td>18489</td>\n",
              "      <td>J</td>\n",
              "    </tr>\n",
              "    <tr>\n",
              "      <th>2</th>\n",
              "      <td>2022-08-01</td>\n",
              "      <td>AAAU</td>\n",
              "      <td>11673</td>\n",
              "      <td>16519</td>\n",
              "      <td>J</td>\n",
              "    </tr>\n",
              "    <tr>\n",
              "      <th>3</th>\n",
              "      <td>2022-08-01</td>\n",
              "      <td>AAC</td>\n",
              "      <td>1436</td>\n",
              "      <td>1638</td>\n",
              "      <td>J</td>\n",
              "    </tr>\n",
              "    <tr>\n",
              "      <th>4</th>\n",
              "      <td>2022-08-01</td>\n",
              "      <td>AACG</td>\n",
              "      <td>300</td>\n",
              "      <td>300</td>\n",
              "      <td>J</td>\n",
              "    </tr>\n",
              "    <tr>\n",
              "      <th>...</th>\n",
              "      <td>...</td>\n",
              "      <td>...</td>\n",
              "      <td>...</td>\n",
              "      <td>...</td>\n",
              "      <td>...</td>\n",
              "    </tr>\n",
              "    <tr>\n",
              "      <th>37371</th>\n",
              "      <td>2022-08-05</td>\n",
              "      <td>ZWS</td>\n",
              "      <td>4268</td>\n",
              "      <td>11066</td>\n",
              "      <td>J</td>\n",
              "    </tr>\n",
              "    <tr>\n",
              "      <th>37372</th>\n",
              "      <td>2022-08-05</td>\n",
              "      <td>ZY</td>\n",
              "      <td>16656</td>\n",
              "      <td>28478</td>\n",
              "      <td>J</td>\n",
              "    </tr>\n",
              "    <tr>\n",
              "      <th>37373</th>\n",
              "      <td>2022-08-05</td>\n",
              "      <td>ZYME</td>\n",
              "      <td>6457</td>\n",
              "      <td>17481</td>\n",
              "      <td>J</td>\n",
              "    </tr>\n",
              "    <tr>\n",
              "      <th>37374</th>\n",
              "      <td>2022-08-05</td>\n",
              "      <td>ZYNE</td>\n",
              "      <td>1187</td>\n",
              "      <td>1886</td>\n",
              "      <td>J</td>\n",
              "    </tr>\n",
              "    <tr>\n",
              "      <th>37375</th>\n",
              "      <td>2022-08-05</td>\n",
              "      <td>ZYXI</td>\n",
              "      <td>3321</td>\n",
              "      <td>3722</td>\n",
              "      <td>J</td>\n",
              "    </tr>\n",
              "  </tbody>\n",
              "</table>\n",
              "<p>37371 rows × 5 columns</p>\n",
              "</div>\n",
              "      <button class=\"colab-df-convert\" onclick=\"convertToInteractive('df-3ebb892f-c646-48eb-ac92-479567e9e101')\"\n",
              "              title=\"Convert this dataframe to an interactive table.\"\n",
              "              style=\"display:none;\">\n",
              "        \n",
              "  <svg xmlns=\"http://www.w3.org/2000/svg\" height=\"24px\"viewBox=\"0 0 24 24\"\n",
              "       width=\"24px\">\n",
              "    <path d=\"M0 0h24v24H0V0z\" fill=\"none\"/>\n",
              "    <path d=\"M18.56 5.44l.94 2.06.94-2.06 2.06-.94-2.06-.94-.94-2.06-.94 2.06-2.06.94zm-11 1L8.5 8.5l.94-2.06 2.06-.94-2.06-.94L8.5 2.5l-.94 2.06-2.06.94zm10 10l.94 2.06.94-2.06 2.06-.94-2.06-.94-.94-2.06-.94 2.06-2.06.94z\"/><path d=\"M17.41 7.96l-1.37-1.37c-.4-.4-.92-.59-1.43-.59-.52 0-1.04.2-1.43.59L10.3 9.45l-7.72 7.72c-.78.78-.78 2.05 0 2.83L4 21.41c.39.39.9.59 1.41.59.51 0 1.02-.2 1.41-.59l7.78-7.78 2.81-2.81c.8-.78.8-2.07 0-2.86zM5.41 20L4 18.59l7.72-7.72 1.47 1.35L5.41 20z\"/>\n",
              "  </svg>\n",
              "      </button>\n",
              "      \n",
              "  <style>\n",
              "    .colab-df-container {\n",
              "      display:flex;\n",
              "      flex-wrap:wrap;\n",
              "      gap: 12px;\n",
              "    }\n",
              "\n",
              "    .colab-df-convert {\n",
              "      background-color: #E8F0FE;\n",
              "      border: none;\n",
              "      border-radius: 50%;\n",
              "      cursor: pointer;\n",
              "      display: none;\n",
              "      fill: #1967D2;\n",
              "      height: 32px;\n",
              "      padding: 0 0 0 0;\n",
              "      width: 32px;\n",
              "    }\n",
              "\n",
              "    .colab-df-convert:hover {\n",
              "      background-color: #E2EBFA;\n",
              "      box-shadow: 0px 1px 2px rgba(60, 64, 67, 0.3), 0px 1px 3px 1px rgba(60, 64, 67, 0.15);\n",
              "      fill: #174EA6;\n",
              "    }\n",
              "\n",
              "    [theme=dark] .colab-df-convert {\n",
              "      background-color: #3B4455;\n",
              "      fill: #D2E3FC;\n",
              "    }\n",
              "\n",
              "    [theme=dark] .colab-df-convert:hover {\n",
              "      background-color: #434B5C;\n",
              "      box-shadow: 0px 1px 3px 1px rgba(0, 0, 0, 0.15);\n",
              "      filter: drop-shadow(0px 1px 2px rgba(0, 0, 0, 0.3));\n",
              "      fill: #FFFFFF;\n",
              "    }\n",
              "  </style>\n",
              "\n",
              "      <script>\n",
              "        const buttonEl =\n",
              "          document.querySelector('#df-3ebb892f-c646-48eb-ac92-479567e9e101 button.colab-df-convert');\n",
              "        buttonEl.style.display =\n",
              "          google.colab.kernel.accessAllowed ? 'block' : 'none';\n",
              "\n",
              "        async function convertToInteractive(key) {\n",
              "          const element = document.querySelector('#df-3ebb892f-c646-48eb-ac92-479567e9e101');\n",
              "          const dataTable =\n",
              "            await google.colab.kernel.invokeFunction('convertToInteractive',\n",
              "                                                     [key], {});\n",
              "          if (!dataTable) return;\n",
              "\n",
              "          const docLinkHtml = 'Like what you see? Visit the ' +\n",
              "            '<a target=\"_blank\" href=https://colab.research.google.com/notebooks/data_table.ipynb>data table notebook</a>'\n",
              "            + ' to learn more about interactive tables.';\n",
              "          element.innerHTML = '';\n",
              "          dataTable['output_type'] = 'display_data';\n",
              "          await google.colab.output.renderOutput(dataTable, element);\n",
              "          const docLink = document.createElement('div');\n",
              "          docLink.innerHTML = docLinkHtml;\n",
              "          element.appendChild(docLink);\n",
              "        }\n",
              "      </script>\n",
              "    </div>\n",
              "  </div>\n",
              "  "
            ]
          },
          "metadata": {},
          "execution_count": 126
        }
      ]
    },
    {
      "cell_type": "code",
      "source": [
        "# Take a user ticker and output the relevant row \n",
        "ticker = input(\"What ticker should we look up? \")\n",
        "\n",
        "edgx_ticker_indexes = (EDGX_df.index[EDGX_df['Symbol']==ticker].tolist())\n",
        "finra_ticker_indexes = (FINRA_df.index[FINRA_df['Symbol']==ticker].tolist())\n",
        "\n"
      ],
      "metadata": {
        "colab": {
          "base_uri": "https://localhost:8080/"
        },
        "id": "aULHoQsIsUR6",
        "outputId": "07457e79-a4ab-47df-bf07-56f70549fed7"
      },
      "execution_count": null,
      "outputs": [
        {
          "name": "stdout",
          "output_type": "stream",
          "text": [
            "What ticker should we look up? GOVX\n"
          ]
        }
      ]
    },
    {
      "cell_type": "code",
      "source": [
        "edgx_ticker_indexes\n"
      ],
      "metadata": {
        "colab": {
          "base_uri": "https://localhost:8080/"
        },
        "id": "v8zlJKp0uALO",
        "outputId": "c1a9d20f-69ac-4638-f680-7a3fb95cf933"
      },
      "execution_count": null,
      "outputs": [
        {
          "output_type": "execute_result",
          "data": {
            "text/plain": [
              "[2928, 10403, 17965, 25466, 32941]"
            ]
          },
          "metadata": {},
          "execution_count": 128
        }
      ]
    },
    {
      "cell_type": "code",
      "source": [
        "finra_ticker_indexes"
      ],
      "metadata": {
        "colab": {
          "base_uri": "https://localhost:8080/"
        },
        "id": "tldcTtrTwZTq",
        "outputId": "ff566e12-f595-499b-ffee-62656a6169d4"
      },
      "execution_count": null,
      "outputs": [
        {
          "output_type": "execute_result",
          "data": {
            "text/plain": [
              "[3920, 13878, 23830, 33716]"
            ]
          },
          "metadata": {},
          "execution_count": 129
        }
      ]
    },
    {
      "cell_type": "code",
      "source": [
        "finra_dict = {}\n",
        "for index in finra_ticker_indexes:\n",
        "  finra_dict['Date'] = FINRA_df['Date'][finra_ticker_indexes]\n",
        "  #FINRA_df['Symbol'][finra_ticker_indexes]\n",
        "  finra_dict['Short Volume'] = FINRA_df['ShortVolume'][finra_ticker_indexes]\n",
        "  #FINRA_df['ShortExemptVolume'][finra_ticker_indexes]\n",
        "  finra_dict['Total Volume'] = FINRA_df['TotalVolume'][finra_ticker_indexes]\n",
        "  #FINRA_df['Market'][finra_ticker_indexes]\n",
        "\n",
        "finra_dict\n",
        "edgx_dict = {}\n",
        "for index in edgx_ticker_indexes:\n",
        "  edgx_dict['Date'] = EDGX_df['Date'][edgx_ticker_indexes]\n",
        "  #FINRA_df['Symbol'][finra_ticker_indexes]\n",
        "  edgx_dict['Short Volume'] = EDGX_df['Short Volume'][edgx_ticker_indexes]\n",
        "  #FINRA_df['ShortExemptVolume'][finra_ticker_indexes]\n",
        "  edgx_dict['Total Volume'] = EDGX_df['Total Volume'][edgx_ticker_indexes]\n",
        "  #FINRA_df['Market'][finra_ticker_indexes]\n",
        "\n",
        "edgx_dict"
      ],
      "metadata": {
        "colab": {
          "base_uri": "https://localhost:8080/"
        },
        "id": "jFNXwk32xwe9",
        "outputId": "bfe01de8-9317-44da-ad16-e672dc8b815d"
      },
      "execution_count": null,
      "outputs": [
        {
          "output_type": "execute_result",
          "data": {
            "text/plain": [
              "{'Date': 2928    2022-08-01\n",
              " 10403   2022-08-02\n",
              " 17965   2022-08-03\n",
              " 25466   2022-08-04\n",
              " 32941   2022-08-05\n",
              " Name: Date, dtype: datetime64[ns], 'Short Volume': 2928     246737\n",
              " 10403     64584\n",
              " 17965     20735\n",
              " 25466     76165\n",
              " 32941     64360\n",
              " Name: Short Volume, dtype: int64, 'Total Volume': 2928     388987\n",
              " 10403     96306\n",
              " 17965     24142\n",
              " 25466     98557\n",
              " 32941    102888\n",
              " Name: Total Volume, dtype: int64}"
            ]
          },
          "metadata": {},
          "execution_count": 142
        }
      ]
    },
    {
      "cell_type": "code",
      "source": [
        ""
      ],
      "metadata": {
        "colab": {
          "base_uri": "https://localhost:8080/"
        },
        "id": "PK8jUQVrx4no",
        "outputId": "f5fefe95-6702-4b2d-ad1a-dba877114f92"
      },
      "execution_count": null,
      "outputs": [
        {
          "output_type": "execute_result",
          "data": {
            "text/plain": [
              "496         40410.0\n",
              "10426    25817905.0\n",
              "20390    30289277.0\n",
              "30284    11298763.0\n",
              "Name: ShortVolume, dtype: float64"
            ]
          },
          "metadata": {},
          "execution_count": 90
        }
      ]
    },
    {
      "cell_type": "code",
      "source": [
        ""
      ],
      "metadata": {
        "colab": {
          "base_uri": "https://localhost:8080/"
        },
        "id": "c2hlv1owx7c4",
        "outputId": "dd0e342d-98f9-46a2-ca59-8dcb8125ffd8"
      },
      "execution_count": null,
      "outputs": [
        {
          "output_type": "execute_result",
          "data": {
            "text/plain": [
              "463008.0"
            ]
          },
          "metadata": {},
          "execution_count": 144
        }
      ]
    },
    {
      "cell_type": "code",
      "source": [
        "FINRA_ticker_df = pd.DataFrame(finra_dict)\n",
        "FINRA_ticker_df = FINRA_ticker_df.set_index('Date')\n",
        "\n",
        "EDGX_ticker_df = pd.DataFrame(edgx_dict)\n",
        "EDGX_ticker_df = EDGX_ticker_df.set_index('Date')"
      ],
      "metadata": {
        "id": "vy9FIDLL9Uuu"
      },
      "execution_count": null,
      "outputs": []
    },
    {
      "cell_type": "code",
      "source": [
        "EDGX_ticker_df\n"
      ],
      "metadata": {
        "colab": {
          "base_uri": "https://localhost:8080/",
          "height": 237
        },
        "id": "0kEIQoTqAig6",
        "outputId": "d7c1e305-bba3-4b58-e427-5feeb6548c7d"
      },
      "execution_count": null,
      "outputs": [
        {
          "output_type": "execute_result",
          "data": {
            "text/plain": [
              "            Short Volume  Total Volume\n",
              "Date                                  \n",
              "2022-08-01        246737        388987\n",
              "2022-08-02         64584         96306\n",
              "2022-08-03         20735         24142\n",
              "2022-08-04         76165         98557\n",
              "2022-08-05         64360        102888"
            ],
            "text/html": [
              "\n",
              "  <div id=\"df-a6053a5e-f1ca-4532-aa00-5d8db82a0d98\">\n",
              "    <div class=\"colab-df-container\">\n",
              "      <div>\n",
              "<style scoped>\n",
              "    .dataframe tbody tr th:only-of-type {\n",
              "        vertical-align: middle;\n",
              "    }\n",
              "\n",
              "    .dataframe tbody tr th {\n",
              "        vertical-align: top;\n",
              "    }\n",
              "\n",
              "    .dataframe thead th {\n",
              "        text-align: right;\n",
              "    }\n",
              "</style>\n",
              "<table border=\"1\" class=\"dataframe\">\n",
              "  <thead>\n",
              "    <tr style=\"text-align: right;\">\n",
              "      <th></th>\n",
              "      <th>Short Volume</th>\n",
              "      <th>Total Volume</th>\n",
              "    </tr>\n",
              "    <tr>\n",
              "      <th>Date</th>\n",
              "      <th></th>\n",
              "      <th></th>\n",
              "    </tr>\n",
              "  </thead>\n",
              "  <tbody>\n",
              "    <tr>\n",
              "      <th>2022-08-01</th>\n",
              "      <td>246737</td>\n",
              "      <td>388987</td>\n",
              "    </tr>\n",
              "    <tr>\n",
              "      <th>2022-08-02</th>\n",
              "      <td>64584</td>\n",
              "      <td>96306</td>\n",
              "    </tr>\n",
              "    <tr>\n",
              "      <th>2022-08-03</th>\n",
              "      <td>20735</td>\n",
              "      <td>24142</td>\n",
              "    </tr>\n",
              "    <tr>\n",
              "      <th>2022-08-04</th>\n",
              "      <td>76165</td>\n",
              "      <td>98557</td>\n",
              "    </tr>\n",
              "    <tr>\n",
              "      <th>2022-08-05</th>\n",
              "      <td>64360</td>\n",
              "      <td>102888</td>\n",
              "    </tr>\n",
              "  </tbody>\n",
              "</table>\n",
              "</div>\n",
              "      <button class=\"colab-df-convert\" onclick=\"convertToInteractive('df-a6053a5e-f1ca-4532-aa00-5d8db82a0d98')\"\n",
              "              title=\"Convert this dataframe to an interactive table.\"\n",
              "              style=\"display:none;\">\n",
              "        \n",
              "  <svg xmlns=\"http://www.w3.org/2000/svg\" height=\"24px\"viewBox=\"0 0 24 24\"\n",
              "       width=\"24px\">\n",
              "    <path d=\"M0 0h24v24H0V0z\" fill=\"none\"/>\n",
              "    <path d=\"M18.56 5.44l.94 2.06.94-2.06 2.06-.94-2.06-.94-.94-2.06-.94 2.06-2.06.94zm-11 1L8.5 8.5l.94-2.06 2.06-.94-2.06-.94L8.5 2.5l-.94 2.06-2.06.94zm10 10l.94 2.06.94-2.06 2.06-.94-2.06-.94-.94-2.06-.94 2.06-2.06.94z\"/><path d=\"M17.41 7.96l-1.37-1.37c-.4-.4-.92-.59-1.43-.59-.52 0-1.04.2-1.43.59L10.3 9.45l-7.72 7.72c-.78.78-.78 2.05 0 2.83L4 21.41c.39.39.9.59 1.41.59.51 0 1.02-.2 1.41-.59l7.78-7.78 2.81-2.81c.8-.78.8-2.07 0-2.86zM5.41 20L4 18.59l7.72-7.72 1.47 1.35L5.41 20z\"/>\n",
              "  </svg>\n",
              "      </button>\n",
              "      \n",
              "  <style>\n",
              "    .colab-df-container {\n",
              "      display:flex;\n",
              "      flex-wrap:wrap;\n",
              "      gap: 12px;\n",
              "    }\n",
              "\n",
              "    .colab-df-convert {\n",
              "      background-color: #E8F0FE;\n",
              "      border: none;\n",
              "      border-radius: 50%;\n",
              "      cursor: pointer;\n",
              "      display: none;\n",
              "      fill: #1967D2;\n",
              "      height: 32px;\n",
              "      padding: 0 0 0 0;\n",
              "      width: 32px;\n",
              "    }\n",
              "\n",
              "    .colab-df-convert:hover {\n",
              "      background-color: #E2EBFA;\n",
              "      box-shadow: 0px 1px 2px rgba(60, 64, 67, 0.3), 0px 1px 3px 1px rgba(60, 64, 67, 0.15);\n",
              "      fill: #174EA6;\n",
              "    }\n",
              "\n",
              "    [theme=dark] .colab-df-convert {\n",
              "      background-color: #3B4455;\n",
              "      fill: #D2E3FC;\n",
              "    }\n",
              "\n",
              "    [theme=dark] .colab-df-convert:hover {\n",
              "      background-color: #434B5C;\n",
              "      box-shadow: 0px 1px 3px 1px rgba(0, 0, 0, 0.15);\n",
              "      filter: drop-shadow(0px 1px 2px rgba(0, 0, 0, 0.3));\n",
              "      fill: #FFFFFF;\n",
              "    }\n",
              "  </style>\n",
              "\n",
              "      <script>\n",
              "        const buttonEl =\n",
              "          document.querySelector('#df-a6053a5e-f1ca-4532-aa00-5d8db82a0d98 button.colab-df-convert');\n",
              "        buttonEl.style.display =\n",
              "          google.colab.kernel.accessAllowed ? 'block' : 'none';\n",
              "\n",
              "        async function convertToInteractive(key) {\n",
              "          const element = document.querySelector('#df-a6053a5e-f1ca-4532-aa00-5d8db82a0d98');\n",
              "          const dataTable =\n",
              "            await google.colab.kernel.invokeFunction('convertToInteractive',\n",
              "                                                     [key], {});\n",
              "          if (!dataTable) return;\n",
              "\n",
              "          const docLinkHtml = 'Like what you see? Visit the ' +\n",
              "            '<a target=\"_blank\" href=https://colab.research.google.com/notebooks/data_table.ipynb>data table notebook</a>'\n",
              "            + ' to learn more about interactive tables.';\n",
              "          element.innerHTML = '';\n",
              "          dataTable['output_type'] = 'display_data';\n",
              "          await google.colab.output.renderOutput(dataTable, element);\n",
              "          const docLink = document.createElement('div');\n",
              "          docLink.innerHTML = docLinkHtml;\n",
              "          element.appendChild(docLink);\n",
              "        }\n",
              "      </script>\n",
              "    </div>\n",
              "  </div>\n",
              "  "
            ]
          },
          "metadata": {},
          "execution_count": 147
        }
      ]
    },
    {
      "cell_type": "code",
      "source": [
        "FINRA_ticker_df"
      ],
      "metadata": {
        "colab": {
          "base_uri": "https://localhost:8080/",
          "height": 206
        },
        "id": "2Co64AtkFkVQ",
        "outputId": "c2c2db59-bd9b-43fb-d6cc-45359efbbd07"
      },
      "execution_count": null,
      "outputs": [
        {
          "output_type": "execute_result",
          "data": {
            "text/plain": [
              "            Short Volume  Total Volume\n",
              "Date                                  \n",
              "2022-08-01    33661416.0    59231054.0\n",
              "2022-08-02    12910034.0    23418620.0\n",
              "2022-08-04    29168601.0    53088566.0\n",
              "2022-08-05    14957186.0    28214177.0"
            ],
            "text/html": [
              "\n",
              "  <div id=\"df-54b96eff-acbb-4531-a820-1e72ba96c5a2\">\n",
              "    <div class=\"colab-df-container\">\n",
              "      <div>\n",
              "<style scoped>\n",
              "    .dataframe tbody tr th:only-of-type {\n",
              "        vertical-align: middle;\n",
              "    }\n",
              "\n",
              "    .dataframe tbody tr th {\n",
              "        vertical-align: top;\n",
              "    }\n",
              "\n",
              "    .dataframe thead th {\n",
              "        text-align: right;\n",
              "    }\n",
              "</style>\n",
              "<table border=\"1\" class=\"dataframe\">\n",
              "  <thead>\n",
              "    <tr style=\"text-align: right;\">\n",
              "      <th></th>\n",
              "      <th>Short Volume</th>\n",
              "      <th>Total Volume</th>\n",
              "    </tr>\n",
              "    <tr>\n",
              "      <th>Date</th>\n",
              "      <th></th>\n",
              "      <th></th>\n",
              "    </tr>\n",
              "  </thead>\n",
              "  <tbody>\n",
              "    <tr>\n",
              "      <th>2022-08-01</th>\n",
              "      <td>33661416.0</td>\n",
              "      <td>59231054.0</td>\n",
              "    </tr>\n",
              "    <tr>\n",
              "      <th>2022-08-02</th>\n",
              "      <td>12910034.0</td>\n",
              "      <td>23418620.0</td>\n",
              "    </tr>\n",
              "    <tr>\n",
              "      <th>2022-08-04</th>\n",
              "      <td>29168601.0</td>\n",
              "      <td>53088566.0</td>\n",
              "    </tr>\n",
              "    <tr>\n",
              "      <th>2022-08-05</th>\n",
              "      <td>14957186.0</td>\n",
              "      <td>28214177.0</td>\n",
              "    </tr>\n",
              "  </tbody>\n",
              "</table>\n",
              "</div>\n",
              "      <button class=\"colab-df-convert\" onclick=\"convertToInteractive('df-54b96eff-acbb-4531-a820-1e72ba96c5a2')\"\n",
              "              title=\"Convert this dataframe to an interactive table.\"\n",
              "              style=\"display:none;\">\n",
              "        \n",
              "  <svg xmlns=\"http://www.w3.org/2000/svg\" height=\"24px\"viewBox=\"0 0 24 24\"\n",
              "       width=\"24px\">\n",
              "    <path d=\"M0 0h24v24H0V0z\" fill=\"none\"/>\n",
              "    <path d=\"M18.56 5.44l.94 2.06.94-2.06 2.06-.94-2.06-.94-.94-2.06-.94 2.06-2.06.94zm-11 1L8.5 8.5l.94-2.06 2.06-.94-2.06-.94L8.5 2.5l-.94 2.06-2.06.94zm10 10l.94 2.06.94-2.06 2.06-.94-2.06-.94-.94-2.06-.94 2.06-2.06.94z\"/><path d=\"M17.41 7.96l-1.37-1.37c-.4-.4-.92-.59-1.43-.59-.52 0-1.04.2-1.43.59L10.3 9.45l-7.72 7.72c-.78.78-.78 2.05 0 2.83L4 21.41c.39.39.9.59 1.41.59.51 0 1.02-.2 1.41-.59l7.78-7.78 2.81-2.81c.8-.78.8-2.07 0-2.86zM5.41 20L4 18.59l7.72-7.72 1.47 1.35L5.41 20z\"/>\n",
              "  </svg>\n",
              "      </button>\n",
              "      \n",
              "  <style>\n",
              "    .colab-df-container {\n",
              "      display:flex;\n",
              "      flex-wrap:wrap;\n",
              "      gap: 12px;\n",
              "    }\n",
              "\n",
              "    .colab-df-convert {\n",
              "      background-color: #E8F0FE;\n",
              "      border: none;\n",
              "      border-radius: 50%;\n",
              "      cursor: pointer;\n",
              "      display: none;\n",
              "      fill: #1967D2;\n",
              "      height: 32px;\n",
              "      padding: 0 0 0 0;\n",
              "      width: 32px;\n",
              "    }\n",
              "\n",
              "    .colab-df-convert:hover {\n",
              "      background-color: #E2EBFA;\n",
              "      box-shadow: 0px 1px 2px rgba(60, 64, 67, 0.3), 0px 1px 3px 1px rgba(60, 64, 67, 0.15);\n",
              "      fill: #174EA6;\n",
              "    }\n",
              "\n",
              "    [theme=dark] .colab-df-convert {\n",
              "      background-color: #3B4455;\n",
              "      fill: #D2E3FC;\n",
              "    }\n",
              "\n",
              "    [theme=dark] .colab-df-convert:hover {\n",
              "      background-color: #434B5C;\n",
              "      box-shadow: 0px 1px 3px 1px rgba(0, 0, 0, 0.15);\n",
              "      filter: drop-shadow(0px 1px 2px rgba(0, 0, 0, 0.3));\n",
              "      fill: #FFFFFF;\n",
              "    }\n",
              "  </style>\n",
              "\n",
              "      <script>\n",
              "        const buttonEl =\n",
              "          document.querySelector('#df-54b96eff-acbb-4531-a820-1e72ba96c5a2 button.colab-df-convert');\n",
              "        buttonEl.style.display =\n",
              "          google.colab.kernel.accessAllowed ? 'block' : 'none';\n",
              "\n",
              "        async function convertToInteractive(key) {\n",
              "          const element = document.querySelector('#df-54b96eff-acbb-4531-a820-1e72ba96c5a2');\n",
              "          const dataTable =\n",
              "            await google.colab.kernel.invokeFunction('convertToInteractive',\n",
              "                                                     [key], {});\n",
              "          if (!dataTable) return;\n",
              "\n",
              "          const docLinkHtml = 'Like what you see? Visit the ' +\n",
              "            '<a target=\"_blank\" href=https://colab.research.google.com/notebooks/data_table.ipynb>data table notebook</a>'\n",
              "            + ' to learn more about interactive tables.';\n",
              "          element.innerHTML = '';\n",
              "          dataTable['output_type'] = 'display_data';\n",
              "          await google.colab.output.renderOutput(dataTable, element);\n",
              "          const docLink = document.createElement('div');\n",
              "          docLink.innerHTML = docLinkHtml;\n",
              "          element.appendChild(docLink);\n",
              "        }\n",
              "      </script>\n",
              "    </div>\n",
              "  </div>\n",
              "  "
            ]
          },
          "metadata": {},
          "execution_count": 148
        }
      ]
    },
    {
      "cell_type": "code",
      "source": [
        "EDGX_ticker_df.to_csv(\"EDGX-GOVX.csv\")\n",
        "FINRA_ticker_df.to_csv(\"FINRA-GOVX.csv\")"
      ],
      "metadata": {
        "id": "ZNiTwxpeG21j"
      },
      "execution_count": null,
      "outputs": []
    },
    {
      "cell_type": "code",
      "source": [
        "FINRA_ticker_df.plot.line(y=['Short Volume', 'Total Volume'], figsize=(10,6))\n",
        "EDGX_ticker_df.plot.line(y=['Short Volume', 'Total Volume'], figsize=(10,6))"
      ],
      "metadata": {
        "colab": {
          "base_uri": "https://localhost:8080/",
          "height": 800
        },
        "id": "PNNnWTFTAl4C",
        "outputId": "68c851f0-19c2-4739-ac96-f30ac3027907"
      },
      "execution_count": null,
      "outputs": [
        {
          "output_type": "execute_result",
          "data": {
            "text/plain": [
              "<matplotlib.axes._subplots.AxesSubplot at 0x7f271041f990>"
            ]
          },
          "metadata": {},
          "execution_count": 136
        },
        {
          "output_type": "display_data",
          "data": {
            "text/plain": [
              "<Figure size 720x432 with 1 Axes>"
            ],
            "image/png": "[encoded data removed]"
          },
          "metadata": {
            "needs_background": "light"
          }
        },
        {
          "output_type": "display_data",
          "data": {
            "text/plain": [
              "<Figure size 720x432 with 1 Axes>"
            ],
            "image/png": "[encoded data removed]"
          },
          "metadata": {
            "needs_background": "light"
          }
        }
      ]
    },
    {
      "cell_type": "code",
      "source": [
        "FINRA_ticker_df.plot(kind='area', stacked=False, figsize=(9,6))\n",
        "EDGX_ticker_df.plot(kind='area', stacked=False, figsize=(9,6))"
      ],
      "metadata": {
        "colab": {
          "base_uri": "https://localhost:8080/",
          "height": 800
        },
        "id": "mfGBsUkGBCiX",
        "outputId": "f20255ad-87de-4222-ca7f-d61b4104986b"
      },
      "execution_count": null,
      "outputs": [
        {
          "output_type": "execute_result",
          "data": {
            "text/plain": [
              "<matplotlib.axes._subplots.AxesSubplot at 0x7f270f061b50>"
            ]
          },
          "metadata": {},
          "execution_count": 140
        },
        {
          "output_type": "display_data",
          "data": {
            "text/plain": [
              "<Figure size 648x432 with 1 Axes>"
            ],
            "image/png": "[encoded data removed]"
          },
          "metadata": {
            "needs_background": "light"
          }
        },
        {
          "output_type": "display_data",
          "data": {
            "text/plain": [
              "<Figure size 648x432 with 1 Axes>"
            ],
            "image/png": "[encoded data removed]"
          },
          "metadata": {
            "needs_background": "light"
          }
        }
      ]
    },
    {
      "cell_type": "code",
      "source": [
        "FINRA_ticker_df.plot(kind='barh', figsize=(10,6), ylabel='Volume')\n",
        "EDGX_ticker_df.plot(kind='barh', figsize=(10,6), ylabel='Volume')"
      ],
      "metadata": {
        "colab": {
          "base_uri": "https://localhost:8080/",
          "height": 687
        },
        "id": "7jW7n7HjBu2T",
        "outputId": "27ab9470-109e-4036-b157-fe180093ed4d"
      },
      "execution_count": null,
      "outputs": [
        {
          "output_type": "execute_result",
          "data": {
            "text/plain": [
              "<matplotlib.axes._subplots.AxesSubplot at 0x7f270ef76750>"
            ]
          },
          "metadata": {},
          "execution_count": 141
        },
        {
          "output_type": "display_data",
          "data": {
            "text/plain": [
              "<Figure size 720x432 with 1 Axes>"
            ],
            "image/png": "[encoded data removed]"
          },
          "metadata": {
            "needs_background": "light"
          }
        },
        {
          "output_type": "display_data",
          "data": {
            "text/plain": [
              "<Figure size 720x432 with 1 Axes>"
            ],
            "image/png": "[encoded data removed]"
          },
          "metadata": {
            "needs_background": "light"
          }
        }
      ]
    },
    {
      "cell_type": "code",
      "source": [
        ""
      ],
      "metadata": {
        "id": "q9GyVtySC7zu"
      },
      "execution_count": null,
      "outputs": []
    }
  ]
}