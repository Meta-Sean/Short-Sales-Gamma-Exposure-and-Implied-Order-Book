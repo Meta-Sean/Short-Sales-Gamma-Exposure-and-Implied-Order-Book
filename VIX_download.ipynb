{
  "cells": [
    {
      "cell_type": "markdown",
      "metadata": {
        "id": "view-in-github",
        "colab_type": "text"
      },
      "source": [
        "<a href=\"https://colab.research.google.com/github/Meta-Sean/sqzme/blob/main/VIX_download.ipynb\" target=\"_parent\"><img src=\"https://colab.research.google.com/assets/colab-badge.svg\" alt=\"Open In Colab\"/></a>"
      ]
    },
    {
      "cell_type": "code",
      "execution_count": null,
      "metadata": {
        "id": "DZXnNEBCQL1n"
      },
      "outputs": [],
      "source": [
        "import pandas as pd \n",
        "from bs4 import BeautifulSoup\n",
        "import requests\n",
        "\n",
        "HEADERS = {'User-Agent': 'Mozilla/5.0 (Macintosh; Intel Mac OS X 10_10_1) AppleWebKit/537.36 (KHTML, like Gecko) Chrome/39.0.2171.95 Safari/537.36'}"
      ]
    },
    {
      "cell_type": "code",
      "execution_count": null,
      "metadata": {
        "id": "4uKOl_RZQL1r"
      },
      "outputs": [],
      "source": [
        "# list of products\n",
        "# https://www.cboe.com/us/futures/market_statistics/historical_data/\n",
        "# VX is VIX, VXM is VX Mini"
      ]
    },
    {
      "cell_type": "code",
      "execution_count": null,
      "metadata": {
        "id": "tV8wl0GkQL1r"
      },
      "outputs": [],
      "source": [
        "product = 'VXM' "
      ]
    },
    {
      "cell_type": "code",
      "execution_count": null,
      "metadata": {
        "id": "24ESIYYTQL1s"
      },
      "outputs": [],
      "source": [
        "url = f\"https://www.cboe.com/us/futures/market_statistics/historical_data/products/{product}\"\n",
        "page = requests.get(url, headers=HEADERS)\n",
        "soup = BeautifulSoup(page.content, 'html.parser')\n",
        "links = [link.get('href') for link in soup.find_all('a')]\n",
        "cfe_links = [link for link in links if f'products/csv/{product}/' in link]"
      ]
    },
    {
      "cell_type": "code",
      "execution_count": null,
      "metadata": {
        "id": "X7JkFOyvQL1t"
      },
      "outputs": [],
      "source": [
        "cfe_futures = pd.DataFrame(columns = ['Trade Date', 'Futures', 'Open', 'High', 'Low', 'Close', 'Settle',\n",
        "       'Change', 'Total Volume', 'EFP', 'Open Interest', 'Expiration Date', 'Product'])"
      ]
    },
    {
      "cell_type": "code",
      "execution_count": null,
      "metadata": {
        "id": "mzSn33hbQL1t",
        "outputId": "41521274-0047-4beb-dfba-13b0bc93613b"
      },
      "outputs": [
        {
          "name": "stdout",
          "output_type": "stream",
          "text": [
            "Downloading 2023-01-18\n",
            "Downloading 2023-02-15\n",
            "Downloading 2022-01-19\n",
            "Downloading 2022-02-16\n",
            "Downloading 2022-03-15\n",
            "Downloading 2022-04-20\n",
            "Downloading 2022-05-18\n",
            "Downloading 2022-06-15\n",
            "Downloading 2022-07-20\n",
            "Downloading 2022-08-17\n",
            "Downloading 2022-09-21\n",
            "Downloading 2022-10-19\n",
            "Downloading 2022-11-16\n",
            "Downloading 2022-12-21\n",
            "Downloading 2021-01-20\n",
            "Downloading 2021-02-17\n",
            "Downloading 2021-03-17\n",
            "Downloading 2021-04-21\n",
            "Downloading 2021-05-19\n",
            "Downloading 2021-06-16\n",
            "Downloading 2021-07-21\n",
            "Downloading 2021-08-18\n",
            "Downloading 2021-09-15\n",
            "Downloading 2021-10-20\n",
            "Downloading 2021-11-17\n",
            "Downloading 2021-12-22\n",
            "Downloading 2020-09-16\n",
            "Downloading 2020-10-21\n",
            "Downloading 2020-11-18\n",
            "Downloading 2020-12-16\n"
          ]
        }
      ],
      "source": [
        "for link in cfe_links:\n",
        "    expiration_date = list(filter(None, link.split('/')))[-1]\n",
        "\n",
        "    if expiration_date in cfe_futures['Expiration Date'].values:\n",
        "        print(f\"Skipping {expiration_date} because it already exists\")\n",
        "        continue\n",
        "\n",
        "    print(f\"Downloading {expiration_date}\")\n",
        "\n",
        "    csv_url = f\"\"\"https://www.cboe.com/us/futures/market_statistics/historical_data/{link}\"\"\"\n",
        "    df = pd.read_csv(csv_url)\n",
        "    df['Expiration Date'] = expiration_date\n",
        "    df['Product'] = product\n",
        "\n",
        "    cfe_futures = pd.concat([cfe_futures, df])"
      ]
    },
    {
      "cell_type": "code",
      "execution_count": null,
      "metadata": {
        "id": "y8a0l3vVQL1y"
      },
      "outputs": [],
      "source": [
        "cfe_futures.to_pickle(f'{product}_futures.pkl')"
      ]
    }
  ],
  "metadata": {
    "kernelspec": {
      "display_name": "Python 3.9.6 64-bit",
      "language": "python",
      "name": "python3"
    },
    "language_info": {
      "codemirror_mode": {
        "name": "ipython",
        "version": 3
      },
      "file_extension": ".py",
      "mimetype": "text/x-python",
      "name": "python",
      "nbconvert_exporter": "python",
      "pygments_lexer": "ipython3",
      "version": "3.9.6"
    },
    "orig_nbformat": 4,
    "vscode": {
      "interpreter": {
        "hash": "fbe58ca63fe33f9eeae9e71d10368d2b4a57f2b1b395836210cc60d362c66949"
      }
    },
    "colab": {
      "provenance": [],
      "include_colab_link": true
    }
  },
  "nbformat": 4,
  "nbformat_minor": 0
}